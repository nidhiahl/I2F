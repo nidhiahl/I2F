{
 "cells": [
  {
   "cell_type": "code",
   "execution_count": 1,
   "id": "51e6b68a",
   "metadata": {},
   "outputs": [
    {
     "name": "stdout",
     "output_type": "stream",
     "text": [
      "\u001b[31mERROR: Could not find a version that satisfies the requirement skmultiflow (from versions: none)\u001b[0m\n",
      "\u001b[31mERROR: No matching distribution found for skmultiflow\u001b[0m\n",
      "Note: you may need to restart the kernel to use updated packages.\n"
     ]
    }
   ],
   "source": [
    "pip install skmultiflow"
   ]
  },
  {
   "cell_type": "code",
   "execution_count": 1,
   "id": "90c147d0",
   "metadata": {},
   "outputs": [],
   "source": [
    "import os\n",
    "import sys\n",
    "import time\n",
    "\n",
    "import numpy as np\n",
    "import pandas as pd\n",
    "\n",
    "from datetime import datetime\n",
    "import json\n",
    "from statistics import mean\n",
    "\n",
    "from PCB_iForest_modules.PCB_EIF import *\n"
   ]
  },
  {
   "cell_type": "code",
   "execution_count": 2,
   "id": "bc654755-88f2-4b29-971d-e48222a5138e",
   "metadata": {},
   "outputs": [],
   "source": [
    "INF_value = 1519889160.0* 100000\n",
    "\n",
    "pcb_param_list = {\n",
    "# PCB-iForest\n",
    "'window_size' : 200,\n",
    "'num_trees' : 100,\n",
    "'extension_level' : 1.0, # in percent of dimension - 1.0 denotes to fully extended version\n",
    "'anomaly_threshold_eif' : 0.5,\n",
    "# NDKSWIN-Parameters\n",
    "'alpha' : 0.01,\n",
    "'n_dimensions' : 1,\n",
    "'n_tested_samples' : 0.1,\n",
    "'stat_size' : 30\n",
    "}"
   ]
  },
  {
   "cell_type": "code",
   "execution_count": 3,
   "id": "8d6b9e27-7b20-4b34-a4ad-890e9b7496b5",
   "metadata": {},
   "outputs": [],
   "source": [
    "def load_data(dataFile: str):\n",
    "    '''\n",
    "    return data\n",
    "    @param dataFile: path to the file\n",
    "    @return: data\n",
    "    '''\n",
    "    df = pd.read_csv(dataFile,sep=' ')\n",
    "    class_labels = df.iloc[:, -1:]\n",
    "    final_df = df.astype(float)\n",
    "    data_with_labels = final_df.to_numpy()\n",
    "    return data_with_labels"
   ]
  },
  {
   "cell_type": "code",
   "execution_count": 4,
   "id": "3acdf12e-19ab-4772-944c-3137bd953403",
   "metadata": {},
   "outputs": [],
   "source": [
    "def preprocessing_data(data: np.ndarray):\n",
    "    '''\n",
    "    handling remaining nan, inf values in data instance; separating the class labels from data instance\n",
    "    @param data: numpy array\n",
    "    @return: data, class label\n",
    "    '''\n",
    "    data = data.tolist()\n",
    "    y_label = data[-1]\n",
    "    if isinstance(y_label, str):\n",
    "        if y_label !=  \"Benign\": #anomalous point is represented as 1\n",
    "            y_label = 1\n",
    "\n",
    "        else:\n",
    "            y_label = 0\n",
    "\n",
    "    x_data = np.asarray(data[:-1])\n",
    "    x_data = np.nan_to_num(x_data, nan=0.0, posinf= INF_value,\n",
    "                         neginf=-INF_value)\n",
    "\n",
    "    return x_data, y_label"
   ]
  },
  {
   "cell_type": "code",
   "execution_count": 5,
   "id": "ff553bbe-7587-4091-bd40-4d0c0e8fc3c6",
   "metadata": {},
   "outputs": [],
   "source": [
    "def AAR(df: pd.DataFrame):\n",
    "    df.drop(0,axis=1,inplace=True)\n",
    "    df.sort_values(by=1,ascending=False,inplace=True)\n",
    "    df=df.reset_index(drop=True)\n",
    "    AAR = np.mean(df.index[df[2] == 1].tolist())\n",
    "    return AAR"
   ]
  },
  {
   "cell_type": "code",
   "execution_count": 6,
   "id": "46cda8c4-d869-44ee-b321-f6d2c06a0c82",
   "metadata": {},
   "outputs": [],
   "source": [
    "dataset_name = \"shuttle\"\n",
    "update_type = \"U1\"   #U1 or U2\n",
    "D0_path = \"./datasets/\"+dataset_name+\"/\"+update_type+\"/D0.csv\"\n",
    "deltaD_path = \"./datasets/\"+dataset_name+\"/\"+update_type+\"/deltaD.csv\"\n",
    "\n",
    "D0 = load_data(D0_path)\n",
    "deltaD = load_data(deltaD_path)\n",
    "D0_size = len(D0)\n",
    "deltaD_size = len(deltaD)\n",
    "\n",
    "#data = np.concatenate((D0,deltaD))\n",
    "\n",
    "hyper_parameters = [[128,100]]\n",
    "params = [128,100]"
   ]
  },
  {
   "cell_type": "code",
   "execution_count": 7,
   "id": "5a6df97c-c97c-4a3a-b1eb-ff64d82a2341",
   "metadata": {},
   "outputs": [
    {
     "name": "stdout",
     "output_type": "stream",
     "text": [
      "classifier PCBIF processing shuttle with hyper_parameters W128_T100 extension=8\n"
     ]
    }
   ],
   "source": [
    "print(\"classifier PCBIF processing \"+ dataset_name + \" with hyper_parameters \" + \"W\" + str(params[0]) + \"_T\" + str(params[1])+\" extension=\"+str(int(\n",
    "                                                         pcb_param_list['extension_level'] * D0.shape[1] - 2)))\n",
    "    "
   ]
  },
  {
   "cell_type": "code",
   "execution_count": 8,
   "id": "3ebd6fe9-d56e-4814-bd0d-9c9405ab596f",
   "metadata": {},
   "outputs": [],
   "source": [
    "i = 1\n",
    "random_state = np.random.RandomState(i)\n",
    "initial_time = time.time()\n",
    "samples_used = 0\n",
    "        "
   ]
  },
  {
   "cell_type": "code",
   "execution_count": 9,
   "id": "d0812be9-57ce-4c10-b65e-fe4b48f641e3",
   "metadata": {},
   "outputs": [],
   "source": [
    "ix = np.random.choice(D0_size, size=params[0], replace=False)\n",
    "D0_sample = D0[ix,:-1]"
   ]
  },
  {
   "cell_type": "code",
   "execution_count": 10,
   "id": "ab744bd4-924b-476f-939a-87d88cd8e282",
   "metadata": {},
   "outputs": [],
   "source": [
    "F = EiForest(D0_sample, ntrees=params[1], sample_size=params[0],\n",
    "                                         threshold=pcb_param_list['anomaly_threshold_eif'], ExtensionLevel=int(\n",
    "                                                         pcb_param_list['extension_level'] * D0.shape[1] - 2))"
   ]
  },
  {
   "cell_type": "code",
   "execution_count": 11,
   "id": "2490a4be-3e95-4879-ab01-7a29cf6d8da5",
   "metadata": {},
   "outputs": [],
   "source": [
    "F.ensemble_fit(D0_sample)"
   ]
  },
  {
   "cell_type": "code",
   "execution_count": 12,
   "id": "9ea6911f-8840-49f5-9bce-f9b3804b4443",
   "metadata": {},
   "outputs": [],
   "source": [
    "ndkswindow = ndk(alpha=pcb_param_list['alpha'], \n",
    "                 data=D0_sample, \n",
    "                 n_dimensions=pcb_param_list['n_dimensions'], \n",
    "                 window_size=params[0], \n",
    "                 stat_size=pcb_param_list['stat_size'], \n",
    "                 n_tested_samples=pcb_param_list['n_tested_samples'], \n",
    "                 fixed_checked_dimension=False, \n",
    "                 fixed_checked_sample=False)\n",
    "        "
   ]
  },
  {
   "cell_type": "code",
   "execution_count": 13,
   "id": "6cfe5018-7554-4a62-9067-d91d6ad4faaf",
   "metadata": {},
   "outputs": [],
   "source": [
    "ix = np.random.choice(deltaD_size, size=params[0], replace=False)\n",
    "deltaD_sample = deltaD[ix,:-1]"
   ]
  },
  {
   "cell_type": "code",
   "execution_count": 14,
   "id": "5f9a42a4-26ea-41a6-ae3a-74456f210278",
   "metadata": {},
   "outputs": [],
   "source": [
    "for data_instance in deltaD_sample:\n",
    "            overall_anomaly_score, individual_anomaly_score = F.compute_paths(data_instance) # self.window[-1]\n",
    "            F.compare_scores(overall_anomaly_score, individual_anomaly_score)\n",
    "            #prediction = F.predict_function(overall_anomaly_score)\n",
    "          "
   ]
  },
  {
   "cell_type": "code",
   "execution_count": 15,
   "id": "aca2fb19-318e-43f6-8a23-d330917c4219",
   "metadata": {},
   "outputs": [],
   "source": [
    "ndkswindow.add_element(deltaD_sample)\n",
    "if ndkswindow.detected_change():\n",
    "    update_counter += 1\n",
    "    F.update_model(deltaD_sample.tolist())\n",
    "        "
   ]
  },
  {
   "cell_type": "code",
   "execution_count": 16,
   "id": "b0924d42-a98b-44bf-bbcf-66a8570f3a7c",
   "metadata": {},
   "outputs": [],
   "source": [
    "D0_ascore = pd.DataFrame(columns=[0,1,2])\n",
    "for data_instance in D0:\n",
    "    x_instance, y_instance = preprocessing_data(data_instance)\n",
    "    overall_anomaly_score, individual_anomaly_score = F.compute_paths(x_instance) # self.window[-1]\n",
    "    D0_ascore.loc[len(D0_ascore.index)] = [samples_used-1,overall_anomaly_score,y_instance]  \n",
    "        "
   ]
  },
  {
   "cell_type": "code",
   "execution_count": 17,
   "id": "3b1d3a5a-5bc2-4577-919c-5a9320295569",
   "metadata": {},
   "outputs": [],
   "source": [
    "deltaD_ascore = pd.DataFrame(columns=[0,1,2])\n",
    "for data_instance in deltaD:\n",
    "    x_instance, y_instance = preprocessing_data(data_instance)\n",
    "    overall_anomaly_score, individual_anomaly_score = F.compute_paths(x_instance) # self.window[-1]\n",
    "    deltaD_ascore.loc[len(deltaD_ascore.index)] = [samples_used-1,overall_anomaly_score,y_instance]\n",
    "        "
   ]
  },
  {
   "cell_type": "code",
   "execution_count": 18,
   "id": "2f4606e8-59fd-4283-ad71-f5972f41e6a5",
   "metadata": {},
   "outputs": [
    {
     "name": "stdout",
     "output_type": "stream",
     "text": [
      "5648.573033707865 33.541666666666664\n"
     ]
    }
   ],
   "source": [
    "print(AAR(D0_ascore),AAR(deltaD_ascore))"
   ]
  },
  {
   "cell_type": "code",
   "execution_count": null,
   "id": "364f93fb-1103-48ce-9be8-d469cb4aed89",
   "metadata": {},
   "outputs": [],
   "source": []
  }
 ],
 "metadata": {
  "kernelspec": {
   "display_name": "Python 3 (ipykernel)",
   "language": "python",
   "name": "python3"
  },
  "language_info": {
   "codemirror_mode": {
    "name": "ipython",
    "version": 3
   },
   "file_extension": ".py",
   "mimetype": "text/x-python",
   "name": "python",
   "nbconvert_exporter": "python",
   "pygments_lexer": "ipython3",
   "version": "3.9.7"
  }
 },
 "nbformat": 4,
 "nbformat_minor": 5
}
