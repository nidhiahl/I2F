{
 "cells": [
  {
   "cell_type": "code",
   "execution_count": 1,
   "metadata": {
    "colab": {
     "base_uri": "https://localhost:8080/"
    },
    "id": "MKbDiaadJ11y",
    "outputId": "fdeb4922-c7cd-4663-f638-165082895d94"
   },
   "outputs": [
    {
     "name": "stdout",
     "output_type": "stream",
     "text": [
      "Defaulting to user installation because normal site-packages is not writeable\n",
      "Requirement already satisfied: rrcf in /home/nidhi/.local/lib/python3.8/site-packages (0.4.4)\n",
      "Requirement already satisfied: numpy in /home/nidhi/.local/lib/python3.8/site-packages (from rrcf) (1.20.1)\n",
      "\u001b[33mWARNING: You are using pip version 21.0.1; however, version 24.0 is available.\n",
      "You should consider upgrading via the '/usr/bin/python3 -m pip install --upgrade pip' command.\u001b[0m\n",
      "Note: you may need to restart the kernel to use updated packages.\n"
     ]
    }
   ],
   "source": [
    "pip install rrcf"
   ]
  },
  {
   "cell_type": "code",
   "execution_count": 2,
   "metadata": {
    "id": "iAlq3kmNJ3r0"
   },
   "outputs": [],
   "source": [
    "import pandas as pd\n",
    "import numpy as np\n",
    "import rrcf\n",
    "def load_data(dataFile: str):\n",
    "  df = pd.read_csv(dataFile,sep=' ')\n",
    "  df = df.astype(float)\n",
    "  class_labels = df.iloc[:, -1:]\n",
    "  class_labels = class_labels.to_numpy()\n",
    "  df = df.iloc[: , :-1]\n",
    "  df = df.to_numpy()\n",
    "  return df, class_labels\n",
    "\n",
    "\n",
    "def load_data_without_labels(dataFile: str):\n",
    "  df = pd.read_csv(dataFile,sep=' ')\n",
    "  df = df.astype(float)\n",
    "  df = df.to_numpy()\n",
    "  return df\n",
    "\n",
    "\n",
    "def AAR(df: pd.DataFrame):\n",
    "    #df.drop(0,axis=1,inplace=True)\n",
    "    df.sort_values(by=0,ascending=False,inplace=True)\n",
    "    df=df.reset_index(drop=True)\n",
    "    AAR = np.mean(df.index[df[1] == 1].tolist())\n",
    "    return AAR\n"
   ]
  },
  {
   "cell_type": "code",
   "execution_count": 55,
   "metadata": {
    "colab": {
     "base_uri": "https://localhost:8080/"
    },
    "id": "kYCSQbgvN_L6",
    "outputId": "c81fafc5-e782-498b-f37c-1fcf0c9f0419"
   },
   "outputs": [],
   "source": [
    "input_path = '../io_directory/'\n",
    "D0,D0_class_labels = load_data(input_path+'D0.csv')"
   ]
  },
  {
   "cell_type": "code",
   "execution_count": 56,
   "metadata": {},
   "outputs": [],
   "source": [
    "nD0 = len(D0)"
   ]
  },
  {
   "cell_type": "code",
   "execution_count": 57,
   "metadata": {
    "id": "sdLLbVpPO0Jm"
   },
   "outputs": [],
   "source": [
    "# Set forest parameters\n",
    "num_trees = 100\n",
    "tree_size = 256\n",
    "sample_size_range = (nD0 // tree_size, tree_size)\n",
    "\n",
    "# Construct forest\n",
    "forest = []\n",
    "while len(forest) < num_trees:\n",
    "    # Select random subsets of points uniformly\n",
    "    ixs = np.random.choice(nD0, size=sample_size_range,\n",
    "                           replace=False)\n",
    "    # Add sampled trees to forest\n",
    "    trees = [rrcf.RCTree(D0[ix], index_labels=ix)\n",
    "             for ix in ixs]\n",
    "    forest.extend(trees)"
   ]
  },
  {
   "cell_type": "code",
   "execution_count": 58,
   "metadata": {},
   "outputs": [],
   "source": [
    "avg_codisp_D0 = {}\n",
    "avg_codisp_D0=pd.Series(0.0, index=np.arange(nD0))\n",
    "for index, point in enumerate(D0):\n",
    "    # For each tree in the forest...\n",
    "    for tree in forest:\n",
    "        #print(index,point)\n",
    "        # If tree is above permitted size...\n",
    "        #if len(tree.leaves) > tree_size:\n",
    "            # Drop the oldest point (FIFO)\n",
    "            #tree.forget_point(index+10000 - tree_size)\n",
    "        # Insert the new point into the tree\n",
    "        #tree.insert_point(point, index=index)\n",
    "        # Compute codisp on the new point...\n",
    "        \n",
    "        new_codisp = tree.codisp(tree.query(point))\n",
    "        # And take the average over all trees\n",
    "        avg_codisp_D0[index] += new_codisp / num_trees"
   ]
  },
  {
   "cell_type": "code",
   "execution_count": 59,
   "metadata": {},
   "outputs": [
    {
     "data": {
      "text/plain": [
       "0        21.577789\n",
       "1        67.208798\n",
       "2        10.615479\n",
       "3        14.691587\n",
       "4        10.518025\n",
       "           ...    \n",
       "45214    15.818172\n",
       "45215    19.832099\n",
       "45216    56.726851\n",
       "45217    52.566254\n",
       "45218    36.936341\n",
       "Length: 45219, dtype: float64"
      ]
     },
     "execution_count": 59,
     "metadata": {},
     "output_type": "execute_result"
    }
   ],
   "source": [
    "avg_codisp_D0"
   ]
  },
  {
   "cell_type": "code",
   "execution_count": 60,
   "metadata": {},
   "outputs": [
    {
     "data": {
      "text/plain": [
       "4549.08988764045"
      ]
     },
     "execution_count": 60,
     "metadata": {},
     "output_type": "execute_result"
    }
   ],
   "source": [
    "AAR(pd.concat([avg_codisp_D0,pd.DataFrame(D0_class_labels)],axis=1,ignore_index=True))"
   ]
  },
  {
   "cell_type": "code",
   "execution_count": 61,
   "metadata": {},
   "outputs": [],
   "source": [
    "deltaD,deltaD_class_labels = load_data(input_path+'deltaD1.csv')\n",
    "ndeltaD=len(deltaD)"
   ]
  },
  {
   "cell_type": "code",
   "execution_count": 62,
   "metadata": {
    "colab": {
     "base_uri": "https://localhost:8080/"
    },
    "id": "QXO4f1RGP_lo",
    "outputId": "72055785-ed40-43c5-fd29-b0c53efa8add"
   },
   "outputs": [
    {
     "ename": "KeyboardInterrupt",
     "evalue": "",
     "output_type": "error",
     "traceback": [
      "\u001b[0;31m---------------------------------------------------------------------------\u001b[0m",
      "\u001b[0;31mKeyboardInterrupt\u001b[0m                         Traceback (most recent call last)",
      "\u001b[0;32m/tmp/ipykernel_19384/1059457545.py\u001b[0m in \u001b[0;36m<module>\u001b[0;34m\u001b[0m\n\u001b[1;32m     12\u001b[0m             \u001b[0;31m#tree.forget_point(index+10000 - tree_size)\u001b[0m\u001b[0;34m\u001b[0m\u001b[0;34m\u001b[0m\u001b[0;34m\u001b[0m\u001b[0m\n\u001b[1;32m     13\u001b[0m         \u001b[0;31m# Insert the new point into the tree\u001b[0m\u001b[0;34m\u001b[0m\u001b[0;34m\u001b[0m\u001b[0;34m\u001b[0m\u001b[0m\n\u001b[0;32m---> 14\u001b[0;31m         \u001b[0mtree\u001b[0m\u001b[0;34m.\u001b[0m\u001b[0minsert_point\u001b[0m\u001b[0;34m(\u001b[0m\u001b[0mpoint\u001b[0m\u001b[0;34m,\u001b[0m \u001b[0mindex\u001b[0m\u001b[0;34m=\u001b[0m\u001b[0mindex\u001b[0m\u001b[0;34m)\u001b[0m\u001b[0;34m\u001b[0m\u001b[0;34m\u001b[0m\u001b[0m\n\u001b[0m\u001b[1;32m     15\u001b[0m         \u001b[0;31m# Compute codisp on the new point...\u001b[0m\u001b[0;34m\u001b[0m\u001b[0;34m\u001b[0m\u001b[0;34m\u001b[0m\u001b[0m\n\u001b[1;32m     16\u001b[0m         \u001b[0mnew_codisp\u001b[0m \u001b[0;34m=\u001b[0m \u001b[0mtree\u001b[0m\u001b[0;34m.\u001b[0m\u001b[0mcodisp\u001b[0m\u001b[0;34m(\u001b[0m\u001b[0mindex\u001b[0m\u001b[0;34m)\u001b[0m\u001b[0;34m\u001b[0m\u001b[0;34m\u001b[0m\u001b[0m\n",
      "\u001b[0;32m~/.local/lib/python3.8/site-packages/rrcf/rrcf.py\u001b[0m in \u001b[0;36minsert_point\u001b[0;34m(self, point, index, tolerance)\u001b[0m\n\u001b[1;32m    446\u001b[0m         \u001b[0mnode\u001b[0m \u001b[0;34m=\u001b[0m \u001b[0mself\u001b[0m\u001b[0;34m.\u001b[0m\u001b[0mroot\u001b[0m\u001b[0;34m\u001b[0m\u001b[0;34m\u001b[0m\u001b[0m\n\u001b[1;32m    447\u001b[0m         \u001b[0mparent\u001b[0m \u001b[0;34m=\u001b[0m \u001b[0mnode\u001b[0m\u001b[0;34m.\u001b[0m\u001b[0mu\u001b[0m\u001b[0;34m\u001b[0m\u001b[0;34m\u001b[0m\u001b[0m\n\u001b[0;32m--> 448\u001b[0;31m         \u001b[0mmaxdepth\u001b[0m \u001b[0;34m=\u001b[0m \u001b[0mmax\u001b[0m\u001b[0;34m(\u001b[0m\u001b[0;34m[\u001b[0m\u001b[0mleaf\u001b[0m\u001b[0;34m.\u001b[0m\u001b[0md\u001b[0m \u001b[0;32mfor\u001b[0m \u001b[0mleaf\u001b[0m \u001b[0;32min\u001b[0m \u001b[0mself\u001b[0m\u001b[0;34m.\u001b[0m\u001b[0mleaves\u001b[0m\u001b[0;34m.\u001b[0m\u001b[0mvalues\u001b[0m\u001b[0;34m(\u001b[0m\u001b[0;34m)\u001b[0m\u001b[0;34m]\u001b[0m\u001b[0;34m)\u001b[0m\u001b[0;34m\u001b[0m\u001b[0;34m\u001b[0m\u001b[0m\n\u001b[0m\u001b[1;32m    449\u001b[0m         \u001b[0mdepth\u001b[0m \u001b[0;34m=\u001b[0m \u001b[0;36m0\u001b[0m\u001b[0;34m\u001b[0m\u001b[0;34m\u001b[0m\u001b[0m\n\u001b[1;32m    450\u001b[0m         \u001b[0mbranch\u001b[0m \u001b[0;34m=\u001b[0m \u001b[0;32mNone\u001b[0m\u001b[0;34m\u001b[0m\u001b[0;34m\u001b[0m\u001b[0m\n",
      "\u001b[0;32m~/.local/lib/python3.8/site-packages/rrcf/rrcf.py\u001b[0m in \u001b[0;36m<listcomp>\u001b[0;34m(.0)\u001b[0m\n\u001b[1;32m    446\u001b[0m         \u001b[0mnode\u001b[0m \u001b[0;34m=\u001b[0m \u001b[0mself\u001b[0m\u001b[0;34m.\u001b[0m\u001b[0mroot\u001b[0m\u001b[0;34m\u001b[0m\u001b[0;34m\u001b[0m\u001b[0m\n\u001b[1;32m    447\u001b[0m         \u001b[0mparent\u001b[0m \u001b[0;34m=\u001b[0m \u001b[0mnode\u001b[0m\u001b[0;34m.\u001b[0m\u001b[0mu\u001b[0m\u001b[0;34m\u001b[0m\u001b[0;34m\u001b[0m\u001b[0m\n\u001b[0;32m--> 448\u001b[0;31m         \u001b[0mmaxdepth\u001b[0m \u001b[0;34m=\u001b[0m \u001b[0mmax\u001b[0m\u001b[0;34m(\u001b[0m\u001b[0;34m[\u001b[0m\u001b[0mleaf\u001b[0m\u001b[0;34m.\u001b[0m\u001b[0md\u001b[0m \u001b[0;32mfor\u001b[0m \u001b[0mleaf\u001b[0m \u001b[0;32min\u001b[0m \u001b[0mself\u001b[0m\u001b[0;34m.\u001b[0m\u001b[0mleaves\u001b[0m\u001b[0;34m.\u001b[0m\u001b[0mvalues\u001b[0m\u001b[0;34m(\u001b[0m\u001b[0;34m)\u001b[0m\u001b[0;34m]\u001b[0m\u001b[0;34m)\u001b[0m\u001b[0;34m\u001b[0m\u001b[0;34m\u001b[0m\u001b[0m\n\u001b[0m\u001b[1;32m    449\u001b[0m         \u001b[0mdepth\u001b[0m \u001b[0;34m=\u001b[0m \u001b[0;36m0\u001b[0m\u001b[0;34m\u001b[0m\u001b[0;34m\u001b[0m\u001b[0m\n\u001b[1;32m    450\u001b[0m         \u001b[0mbranch\u001b[0m \u001b[0;34m=\u001b[0m \u001b[0;32mNone\u001b[0m\u001b[0;34m\u001b[0m\u001b[0;34m\u001b[0m\u001b[0m\n",
      "\u001b[0;31mKeyboardInterrupt\u001b[0m: "
     ]
    }
   ],
   "source": [
    "avg_codisp = {}\n",
    "avg_codisp=pd.Series(0.0, index=np.arange(nD0,nD0+ndeltaD))\n",
    "avg_codisp\n",
    "for index, point in enumerate(deltaD):\n",
    "    # For each tree in the forest...\n",
    "    index += nD0\n",
    "    for tree in forest:\n",
    "        #print(index,point)\n",
    "        # If tree is above permitted size...\n",
    "        #if len(tree.leaves) > tree_size:\n",
    "            # Drop the oldest point (FIFO)\n",
    "            #tree.forget_point(index+10000 - tree_size)\n",
    "        # Insert the new point into the tree\n",
    "        tree.insert_point(point, index=index)\n",
    "        # Compute codisp on the new point...\n",
    "        new_codisp = tree.codisp(index)\n",
    "        # And take the average over all trees\n",
    "        if not index in avg_codisp:\n",
    "            avg_codisp[index] = 0\n",
    "        avg_codisp[index] += new_codisp / num_trees"
   ]
  },
  {
   "cell_type": "code",
   "execution_count": null,
   "metadata": {
    "colab": {
     "base_uri": "https://localhost:8080/"
    },
    "id": "4-ZD1S1lH-6N",
    "outputId": "fdc29b76-00af-481d-980c-78bce92b72aa"
   },
   "outputs": [],
   "source": [
    "avg_codisp"
   ]
  },
  {
   "cell_type": "code",
   "execution_count": null,
   "metadata": {},
   "outputs": [],
   "source": [
    "#labels  = pd.DataFrame(deltaD_class_labels,index=range(45219,45699))"
   ]
  },
  {
   "cell_type": "code",
   "execution_count": null,
   "metadata": {},
   "outputs": [],
   "source": [
    "#df=pd.concat([avg_codisp,pd.DataFrame(deltaD_class_labels,index=range(45219,45699))],axis=1,ignore_index=True)"
   ]
  },
  {
   "cell_type": "code",
   "execution_count": null,
   "metadata": {},
   "outputs": [],
   "source": [
    "#df[1].to_list()"
   ]
  },
  {
   "cell_type": "code",
   "execution_count": null,
   "metadata": {},
   "outputs": [],
   "source": [
    "AAR(pd.concat([avg_codisp,pd.DataFrame(deltaD_class_labels,index=range(45219,45699))],axis=1,ignore_index=True))"
   ]
  },
  {
   "cell_type": "code",
   "execution_count": null,
   "metadata": {},
   "outputs": [],
   "source": [
    "df"
   ]
  },
  {
   "cell_type": "code",
   "execution_count": null,
   "metadata": {},
   "outputs": [],
   "source": [
    "avg_codisp_D0 = {}\n",
    "avg_codisp_D0=pd.Series(0.0, index=np.arange(nD0))\n",
    "for index, point in enumerate(D0):\n",
    "    # For each tree in the forest...\n",
    "    for tree in forest:\n",
    "        #print(index,point)\n",
    "        # If tree is above permitted size...\n",
    "        #if len(tree.leaves) > tree_size:\n",
    "            # Drop the oldest point (FIFO)\n",
    "            #tree.forget_point(index+10000 - tree_size)\n",
    "        # Insert the new point into the tree\n",
    "        #tree.insert_point(point, index=index)\n",
    "        # Compute codisp on the new point...\n",
    "        \n",
    "        new_codisp = tree.codisp(tree.query(point))\n",
    "        # And take the average over all trees\n",
    "        avg_codisp_D0[index] += new_codisp / num_trees"
   ]
  },
  {
   "cell_type": "code",
   "execution_count": null,
   "metadata": {},
   "outputs": [],
   "source": [
    "avg_codisp_D0"
   ]
  },
  {
   "cell_type": "code",
   "execution_count": null,
   "metadata": {},
   "outputs": [],
   "source": [
    "AAR(pd.concat([avg_codisp_D0,pd.DataFrame(D0_class_labels)],axis=1,ignore_index=True))"
   ]
  },
  {
   "cell_type": "code",
   "execution_count": null,
   "metadata": {},
   "outputs": [],
   "source": []
  }
 ],
 "metadata": {
  "colab": {
   "provenance": []
  },
  "kernelspec": {
   "display_name": "Python 3 (ipykernel)",
   "language": "python",
   "name": "python3"
  },
  "language_info": {
   "codemirror_mode": {
    "name": "ipython",
    "version": 3
   },
   "file_extension": ".py",
   "mimetype": "text/x-python",
   "name": "python",
   "nbconvert_exporter": "python",
   "pygments_lexer": "ipython3",
   "version": "3.8.10"
  }
 },
 "nbformat": 4,
 "nbformat_minor": 1
}
