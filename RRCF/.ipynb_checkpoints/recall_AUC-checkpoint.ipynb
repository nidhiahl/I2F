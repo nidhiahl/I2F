{
 "cells": [
  {
   "cell_type": "code",
   "execution_count": 1,
   "id": "95ebd47e-039f-4f1f-9590-98cb5fb68d19",
   "metadata": {},
   "outputs": [],
   "source": [
    "import pandas as pd\n",
    "import numpy as np\n",
    "from sklearn import metrics\n",
    "import sys"
   ]
  },
  {
   "cell_type": "code",
   "execution_count": 2,
   "id": "b7ecf2a3-77ab-4273-ac1e-9442c8a0911a",
   "metadata": {},
   "outputs": [],
   "source": [
    "#dataset='synthetic'\n",
    "update_type='CDI'\n",
    "method = 'RRCF'"
   ]
  },
  {
   "cell_type": "code",
   "execution_count": 3,
   "id": "6a322f6c-cf64-491f-a05e-5c04e442234d",
   "metadata": {},
   "outputs": [],
   "source": [
    "#read ground truth label files-------------\n",
    "actual_labels = pd.read_csv('../io_directory/Di_'+update_type+'_labels.csv',sep=' ',header=None)\n",
    "actual_labels = pd.concat([actual_labels,pd.read_csv('../io_directory/deltaD_'+update_type+'_labels.csv',sep=' ',header=None)],ignore_index=True)"
   ]
  },
  {
   "cell_type": "code",
   "execution_count": 4,
   "id": "cc36dba3-ef0a-43cb-8bdc-1882595fd8b3",
   "metadata": {},
   "outputs": [],
   "source": [
    "#read predicted score files-------------\n",
    "pred_scores = pd.read_csv('../io_directory/'+method+'_AS_Di.csv',sep=' ',header=None)\n",
    "Di_size = len(pred_scores)\n",
    "pred_scores = pd.concat([pred_scores,pd.read_csv('../io_directory/'+method+'_AS_deltaD.csv',sep=' ',header=None)],ignore_index=True)\n",
    "deltaD_size = len(pred_scores) -Di_size"
   ]
  },
  {
   "cell_type": "code",
   "execution_count": 5,
   "id": "f1a5bc61-a615-4628-950e-5aa3c4266d04",
   "metadata": {},
   "outputs": [],
   "source": [
    "# count of anomlaies in Di, deltaD, and total-----------\n",
    "total_anomalies=actual_labels[0].value_counts()[1]\n",
    "Di_anomalies=len(actual_labels[(actual_labels[0] == 1) & (actual_labels.index < Di_size)])\n",
    "deltaD_anomalies=len(actual_labels[(actual_labels[0] == 1) & (actual_labels.index >= Di_size)])\n",
    "#print(total_anomalies,Di_anomalies,deltaD_anomalies)"
   ]
  },
  {
   "cell_type": "code",
   "execution_count": 7,
   "id": "76505ce5-2d68-4f49-9d95-aba65d3fd1c5",
   "metadata": {},
   "outputs": [],
   "source": [
    "#put scores and labels in one dataframe---------------\n",
    "scores_labels = pd.DataFrame(columns=['score','actual_labels'])\n",
    "scores_labels['score'] = pred_scores[0]\n",
    "scores_labels['actual_labels'] = actual_labels"
   ]
  },
  {
   "cell_type": "code",
   "execution_count": 8,
   "id": "01c01614-ec81-4e5b-a5a2-6be82d44a8ec",
   "metadata": {},
   "outputs": [],
   "source": [
    "#sort the anomlayscores in descending order\n",
    "scores_labels.sort_values(by='score',ascending=False,inplace=True)"
   ]
  },
  {
   "cell_type": "code",
   "execution_count": 9,
   "id": "82fa7726-5693-4746-b12e-e8c79430464a",
   "metadata": {},
   "outputs": [],
   "source": [
    "#add predicted labels column in dataframe------\n",
    "pred_labels = np.zeros(len(actual_labels))\n",
    "pred_labels[:total_anomalies]=1\n",
    "scores_labels['pred_labels']=pred_labels"
   ]
  },
  {
   "cell_type": "code",
   "execution_count": 10,
   "id": "73a55c56-4aa7-4a90-a22d-fcfd29f9becb",
   "metadata": {},
   "outputs": [
    {
     "name": "stdout",
     "output_type": "stream",
     "text": [
      "0.0 0.16666666666666666 0.07575757575757576 0.05555555555555555 0.3 0.16666666666666666 0.1111111111111111 0.7333333333333333 0.3939393939393939 0.16666666666666666 0.8 0.45454545454545453 "
     ]
    }
   ],
   "source": [
    "for i in [total_anomalies, int((Di_size+deltaD_size)*0.1), int((Di_size+deltaD_size)*0.2), int((Di_size+deltaD_size)*0.3)]:\n",
    "\thead_rows=scores_labels.head(i)\n",
    "\ttp_Di=len(head_rows[(head_rows['actual_labels'] == 1) & (head_rows.index < Di_size)])\n",
    "\ttp_deltaD=len(head_rows[(head_rows['actual_labels'] == 1) & (head_rows.index >= Di_size)])\n",
    "\ttp_full=len(head_rows[(head_rows['actual_labels'] == 1)])\n",
    "\trecall_full=tp_full/total_anomalies\n",
    "\trecall_Di = tp_Di/Di_anomalies\n",
    "\trecall_deltaD='NAN'\n",
    "\tif update_type=='CDI':\n",
    "\t\trecall_deltaD = tp_deltaD/deltaD_anomalies\n",
    "\tprint(recall_Di,recall_deltaD,recall_full,end=' ')"
   ]
  },
  {
   "cell_type": "code",
   "execution_count": 11,
   "id": "2f6581e7-9af1-4bcd-9220-28bda40abfce",
   "metadata": {},
   "outputs": [
    {
     "name": "stdout",
     "output_type": "stream",
     "text": [
      "0.6296715912867458\n"
     ]
    }
   ],
   "source": [
    "#calculate aUC for Di_deltaD\n",
    "fpr, tpr, thresholds = metrics.roc_curve(scores_labels['actual_labels'], scores_labels['score'], pos_label=1)\n",
    "auc_score = metrics.auc(fpr, tpr)\n",
    "\n",
    "print(auc_score)"
   ]
  }
 ],
 "metadata": {
  "kernelspec": {
   "display_name": "Python 3 (ipykernel)",
   "language": "python",
   "name": "python3"
  },
  "language_info": {
   "codemirror_mode": {
    "name": "ipython",
    "version": 3
   },
   "file_extension": ".py",
   "mimetype": "text/x-python",
   "name": "python",
   "nbconvert_exporter": "python",
   "pygments_lexer": "ipython3",
   "version": "3.9.13"
  }
 },
 "nbformat": 4,
 "nbformat_minor": 5
}
